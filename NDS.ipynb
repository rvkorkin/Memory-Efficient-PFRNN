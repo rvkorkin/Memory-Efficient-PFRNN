{
 "cells": [
  {
   "cell_type": "code",
   "execution_count": 1,
   "id": "54ca7b40",
   "metadata": {},
   "outputs": [],
   "source": [
    "import torch\n",
    "import torch.nn as nn\n",
    "import torch.nn.functional as F\n",
    "import imageio\n",
    "import numpy as np\n",
    "import torchvision.transforms as transforms\n",
    "import matplotlib.pyplot as plt\n",
    "from torchvision.utils import save_image\n",
    "from tqdm import tqdm\n",
    "import torch\n",
    "import torch.optim as optim\n",
    "import torch.nn as nn\n",
    "import torch.nn.functional as func\n",
    "import torchvision.transforms as transforms\n",
    "import torchvision\n",
    "import matplotlib\n",
    "from torch.utils.data import DataLoader\n",
    "from torchvision.utils import make_grid\n",
    "from torch.utils.data import TensorDataset, DataLoader\n",
    "from pytorch_lightning.callbacks import ModelCheckpoint\n",
    "from sklearn.model_selection import train_test_split\n",
    "from scipy import interpolate\n",
    "from torch.autograd import Variable\n",
    "import resampling\n",
    "matplotlib.style.use('ggplot')"
   ]
  },
  {
   "cell_type": "code",
   "execution_count": 2,
   "id": "8621f200",
   "metadata": {},
   "outputs": [],
   "source": [
    "device = 'cuda:0' if torch.cuda.is_available() else 'cpu'"
   ]
  },
  {
   "cell_type": "code",
   "execution_count": 196,
   "id": "3da66d83",
   "metadata": {},
   "outputs": [],
   "source": [
    "def data_loader(number):\n",
    "    if number == -1:\n",
    "        x = torch.tensor(np.array([[0.01, 0.09], [0.09, 0.01], [0.01, 0.01], [0.09, 0.09], \n",
    "                           [0.91, 0.99], [0.99, 0.91], [0.91, 0.91], [0.99, 0.99],\n",
    "                           [0.41, 0.49], [0.49, 0.41], [0.41, 0.41], [0.49, 0.49],\n",
    "                           [0.01, 0.99], [0.09, 0.91], [0.01, 0.91], [0.09, 0.99]]), requires_grad=True)\n",
    "        w = torch.ones(16, requires_grad=True) / 16\n",
    "        return x, w\n",
    "        \n",
    "    np.random.seed(0)\n",
    "    z = np.random.uniform(1, number, size=100)\n",
    "    z = (number * np.exp(z - z.mean()) / (np.exp(z - z.mean())).sum()).astype(int)\n",
    "    z[-1] += (number - z.sum())\n",
    "    z = z[z>0]\n",
    "    X = np.zeros((0, 2))\n",
    "    w = np.zeros((0))\n",
    "    for i in range(len(z)):\n",
    "        p = np.random.uniform(0, 1, size=2)\n",
    "        centers = p + np.array([[0.04 * np.random.randn(), 0.04 * np.random.randn()] for j in range(z[i])])\n",
    "        centers = np.abs(centers)\n",
    "        centers[centers>1] = 0.99\n",
    "        weight = np.random.uniform(size=z[i])\n",
    "        X = np.vstack((X, centers))\n",
    "        w = np.hstack((w, weight))\n",
    "    w /= w.sum()\n",
    "    indxs = torch.randperm(len(X))\n",
    "    X = X[indxs]\n",
    "    return torch.tensor(X, requires_grad=True).double(), torch.tensor(w, requires_grad=True).double()"
   ]
  },
  {
   "cell_type": "code",
   "execution_count": 207,
   "id": "315e6d29",
   "metadata": {},
   "outputs": [],
   "source": [
    "class SubSampler(nn.Module):\n",
    "    def __init__(self, number, sub_number, debug=False, resamp_alpha=0.5, tau=1e-3):\n",
    "        super(SubSampler, self).__init__()\n",
    "        self.resamp_alpha = resamp_alpha\n",
    "        self.tau = tau\n",
    "        self.debug = debug\n",
    "        self.number = number\n",
    "        self.sub_number = sub_number\n",
    "        torch.manual_seed(0)\n",
    "        self.att = torch.randn(number, sub_number)\n",
    "        self.y = torch.rand(sub_number, 2, requires_grad=True).double()\n",
    "        self.v = torch.rand(sub_number, requires_grad=True).double()\n",
    "\n",
    "    def init_centroids1(self, x, w, N_output):\n",
    "        np.random.seed(0)\n",
    "        torch.manual_seed(0)\n",
    "        _, max_weight = torch.max(w)\n",
    "        y = torch.tensor(x[max_weight], requires_grad=True)\n",
    "        for i in range(N_output-1):\n",
    "            d = torch.cdist(x, y, p=2.0, compute_mode='use_mm_for_euclid_dist_if_necessary')\n",
    "            d_nearest, _ = torch.min(d, axis=1)\n",
    "            next_idx = np.random.choice(np.arange(len(d_nearest)), size=1, p=d_nearest**2 / (d_nearest**2).sum())\n",
    "            next_idx = torch.tensor(next_idx).long()\n",
    "            y = torch.cat((y, x[next_idx]), dim=0)\n",
    "        return y\n",
    "\n",
    "    def init_centroids(self, x, w, N_output):\n",
    "        np.random.seed(0)\n",
    "        torch.manual_seed(0)\n",
    "        indices = torch.topk(w, N_output)\n",
    "        _, indices = torch.topk(w, self.sub_number)\n",
    "        y = x[indices]\n",
    "        return y\n",
    "\n",
    "    def reset_params(self):\n",
    "        torch.manual_seed(0)\n",
    "        torch.nn.init.uniform_(self.y, a=0, b=1)\n",
    "\n",
    "    def distances(self, x, y):\n",
    "        D = torch.cdist(x, y, p=2.0, compute_mode='use_mm_for_euclid_dist_if_necessary')\n",
    "        return D\n",
    "\n",
    "    def attention(self, d):\n",
    "        return torch.softmax(-d**2 / self.tau, axis=1)\n",
    "\n",
    "    def forward(self, x, w, y=None):\n",
    "        x = x.double()\n",
    "        if y is None:\n",
    "            self.y = self.init_centroids(x, w, self.sub_number)\n",
    "        if self.debug:\n",
    "            print(x[0], self.y[0])\n",
    "        dist = self.distances(x, self.y)\n",
    "        self.att = self.attention(dist)\n",
    "        self.att = self.att.permute(1, 0)\n",
    "        if self.debug:\n",
    "            print(self.att.shape, torch.unsqueeze(w, 1).shape)\n",
    "        self.y = torch.matmul(self.att, (x * torch.unsqueeze(w, 1))) / torch.matmul(self.att, torch.unsqueeze(w, 1))\n",
    "        self.v = torch.matmul(self.att, torch.unsqueeze(w, 1)) / torch.sum(self.att, axis=1)\n",
    "        return self.y, self.v\n",
    "\n",
    "    def repulsion(self):\n",
    "        return torch.mean(self.distances(torch.clamp(self.y, 0, 1), torch.clamp(self.y, 0, 1))**2)"
   ]
  },
  {
   "cell_type": "code",
   "execution_count": 208,
   "id": "b9dfed2f",
   "metadata": {},
   "outputs": [],
   "source": [
    "N_input = 64\n",
    "N_output = 8\n",
    "x, w = data_loader(N_input)\n",
    "model = SubSampler(N_input, N_output, debug=False).double()\n",
    "model.train()\n",
    "criterion = nn.L1Loss()\n",
    "epochs = 1000\n",
    "result = np.zeros((epochs))\n",
    "y, v = model(x, w)\n",
    "for i in range(epochs):\n",
    "    y_old = y\n",
    "    y, v = model(x, w, y)\n",
    "    loss1 = criterion(y_old, y)\n",
    "    loss2 = model.repulsion()\n",
    "    loss = loss1 + 0*loss2\n",
    "    result[i] = loss"
   ]
  },
  {
   "cell_type": "code",
   "execution_count": 209,
   "id": "cc14505d",
   "metadata": {},
   "outputs": [
    {
     "data": {
      "text/plain": [
       "tensor([[0.9198, 0.6628],\n",
       "        [0.2086, 0.3764],\n",
       "        [0.8923, 0.7428],\n",
       "        [0.5162, 0.0627],\n",
       "        [0.9498, 0.9565],\n",
       "        [0.9284, 0.0906],\n",
       "        [0.9856, 0.8809],\n",
       "        [0.6986, 0.2736]], dtype=torch.float64, grad_fn=<DivBackward0>)"
      ]
     },
     "execution_count": 209,
     "metadata": {},
     "output_type": "execute_result"
    },
    {
     "data": {
      "image/png": "[encoded data removed]",
      "text/plain": [
       "<Figure size 432x288 with 1 Axes>"
      ]
     },
     "metadata": {},
     "output_type": "display_data"
    }
   ],
   "source": [
    "plt.plot(result)\n",
    "model.y"
   ]
  },
  {
   "cell_type": "code",
   "execution_count": 210,
   "id": "acf105a4",
   "metadata": {},
   "outputs": [
    {
     "data": {
      "image/png": "[encoded data removed]",
      "text/plain": [
       "<Figure size 864x864 with 1 Axes>"
      ]
     },
     "metadata": {},
     "output_type": "display_data"
    }
   ],
   "source": [
    "plt.figure(figsize=(12, 12))\n",
    "#plt.scatter(x.detach().numpy()[:, 0], x.detach().numpy()[:, 1], color='blue')\n",
    "for i in range(len(x)):\n",
    "    plt.annotate(str(i), (x[i, 0], x[i, 1]), color='blue', fontsize=14)\n",
    "    plt.scatter(x[i, 0].detach(), x[i, 1].detach(), color='blue')\n",
    "for j in range(len(y)):\n",
    "    plt.annotate(str(j), (y[j, 0], y[j, 1]), color='red', fontsize=14)\n",
    "    plt.scatter(y[j, 0].detach(), y[j, 1].detach(), marker='x', s=20, color='red')\n",
    "#plt.scatter(model.y.detach().numpy()[:, 0], model.y.detach().numpy()[:, 1], marker='x', s=20, color='red')"
   ]
  },
  {
   "cell_type": "code",
   "execution_count": 211,
   "id": "f094f0e6",
   "metadata": {},
   "outputs": [
    {
     "data": {
      "text/plain": [
       "<matplotlib.image.AxesImage at 0x25cbf1441d0>"
      ]
     },
     "execution_count": 211,
     "metadata": {},
     "output_type": "execute_result"
    },
    {
     "data": {
      "image/png": "[encoded data removed]",
      "text/plain": [
       "<Figure size 864x288 with 1 Axes>"
      ]
     },
     "metadata": {},
     "output_type": "display_data"
    }
   ],
   "source": [
    "plt.figure(figsize=(12, 4))\n",
    "plt.imshow(model.att.detach().numpy())"
   ]
  },
  {
   "cell_type": "code",
   "execution_count": 212,
   "id": "43873c4c",
   "metadata": {},
   "outputs": [
    {
     "data": {
      "text/plain": [
       "<matplotlib.collections.PathCollection at 0x25cbea77a20>"
      ]
     },
     "execution_count": 212,
     "metadata": {},
     "output_type": "execute_result"
    },
    {
     "data": {
      "image/png": "[encoded data removed]",
      "text/plain": [
       "<Figure size 432x288 with 1 Axes>"
      ]
     },
     "metadata": {},
     "output_type": "display_data"
    }
   ],
   "source": [
    "plt.scatter(model.y[:, 0].detach(), model.y[:, 1].detach())"
   ]
  },
  {
   "cell_type": "code",
   "execution_count": 213,
   "id": "54ba209b",
   "metadata": {},
   "outputs": [
    {
     "data": {
      "text/plain": [
       "(tensor([[-2.9162e-82,  1.4504e-82],\n",
       "         [-1.4209e-82,  7.0665e-83],\n",
       "         [ 1.5929e-09,  1.0761e-08],\n",
       "         [ 9.1526e-56,  1.7036e-55],\n",
       "         [-3.5916e-83,  1.7862e-83],\n",
       "         [ 2.6320e-67,  7.7336e-68],\n",
       "         [ 2.0445e-67,  6.0073e-68],\n",
       "         [ 5.9332e-01,  2.4024e-01],\n",
       "         [ 4.2779e-68,  1.2570e-68],\n",
       "         [ 1.3669e-55,  2.5443e-55],\n",
       "         [ 9.0197e-96, -1.1613e-95],\n",
       "         [ 1.7620e-67,  5.1773e-68],\n",
       "         [ 3.5443e-68,  1.0414e-68],\n",
       "         [ 2.4274e-67,  7.1324e-68],\n",
       "         [-2.8930e-82,  1.4388e-82],\n",
       "         [ 2.3520e-01, -6.6510e-01],\n",
       "         [-2.5875e-82,  1.2868e-82],\n",
       "         [-2.6826e-02,  9.4554e-04],\n",
       "         [ 3.0422e-01,  9.3788e-02],\n",
       "         [-4.0337e-03,  4.7910e-04],\n",
       "         [-2.8610e-02, -2.9075e-03],\n",
       "         [ 1.5293e-09,  3.7153e-09],\n",
       "         [-5.8487e-02,  2.0612e-03],\n",
       "         [-1.6612e-82,  8.2618e-83],\n",
       "         [-2.5192e-83, -7.7332e-84],\n",
       "         [ 3.2571e-95, -4.1938e-95],\n",
       "         [-8.4125e-07, -5.4449e-06],\n",
       "         [ 3.3643e-68,  9.8853e-69],\n",
       "         [ 2.8719e-95, -3.6977e-95],\n",
       "         [ 3.0192e-09, -3.2894e-09],\n",
       "         [ 3.9640e-01,  2.3182e-01],\n",
       "         [-2.1528e-54, -3.8021e-54],\n",
       "         [-1.9394e-08,  4.5072e-08],\n",
       "         [ 5.2463e-68,  1.5415e-68],\n",
       "         [-1.5759e-07, -8.3343e-07],\n",
       "         [-1.7459e-82,  8.6755e-83],\n",
       "         [ 1.0179e-67,  2.9910e-68],\n",
       "         [-1.2206e-01, -5.1266e-02],\n",
       "         [ 2.1907e-67,  6.4370e-68],\n",
       "         [-8.9723e-02,  1.4220e-01],\n",
       "         [ 1.4238e-67,  4.1834e-68],\n",
       "         [ 1.0069e-55,  1.8742e-55],\n",
       "         [ 2.0460e-95, -2.6343e-95],\n",
       "         [ 3.9187e-68,  1.1514e-68],\n",
       "         [ 2.3533e-67,  6.9146e-68],\n",
       "         [-3.0999e-09,  9.4265e-09],\n",
       "         [ 1.4636e-67,  4.3006e-68],\n",
       "         [-8.0369e-83,  3.9966e-83],\n",
       "         [-3.5063e-83,  1.7438e-83],\n",
       "         [-6.0802e-66, -7.2187e-66],\n",
       "         [ 1.0840e-08, -7.7485e-09],\n",
       "         [ 1.9912e-67,  5.8507e-68],\n",
       "         [-2.7478e-08,  5.4039e-08],\n",
       "         [ 1.0875e-67,  3.1955e-68],\n",
       "         [ 5.1854e-68,  1.5236e-68],\n",
       "         [ 2.2572e-67,  6.6323e-68],\n",
       "         [ 1.1996e-09, -1.2251e-09],\n",
       "         [-1.0895e-01,  3.8408e-03],\n",
       "         [ 2.2290e-67,  6.5494e-68],\n",
       "         [ 2.2253e-67,  6.5386e-68],\n",
       "         [-9.0448e-02,  3.9108e-03],\n",
       "         [ 2.7463e-67,  8.0696e-68],\n",
       "         [-1.8447e-07,  3.4857e-07],\n",
       "         [ 1.0122e-68,  2.9743e-69]], dtype=torch.float64),\n",
       " tensor([ 8.5276e-83, -1.0351e-82, -1.9898e-08,  4.1475e-56, -2.2602e-82,\n",
       "         -4.7988e-67,  4.9305e-67,  5.2491e-01, -3.3824e-67,  3.1745e-56,\n",
       "         -5.8808e-95,  2.1119e-67, -8.6503e-68,  1.5152e-67, -1.1335e-82,\n",
       "         -1.8210e-02, -4.4731e-82,  5.4694e-02,  1.6820e-01,  1.0126e-01,\n",
       "         -6.8085e-02, -2.0832e-08,  2.9371e-01,  9.1720e-83,  5.6589e-82,\n",
       "         -7.2334e-95,  4.4814e-07, -9.4624e-67,  5.8466e-95, -4.5611e-08,\n",
       "         -1.0261e+00,  4.6739e-55, -2.1250e-08,  3.8041e-67, -1.7534e-06,\n",
       "          3.3789e-82,  4.6859e-68, -3.1938e-01,  1.8167e-67, -1.4171e-02,\n",
       "         -1.3939e-67, -6.2378e-55,  5.9013e-95, -3.4201e-67, -2.8547e-67,\n",
       "         -6.4830e-09, -4.7343e-67,  3.5845e-82, -4.2232e-82,  3.4957e-67,\n",
       "          1.2587e-09, -5.1278e-67, -4.4445e-08,  2.6646e-67, -4.4821e-67,\n",
       "          4.9033e-68, -1.6593e-08,  2.3079e-01,  3.1938e-67, -3.4880e-67,\n",
       "          3.0614e-01, -1.9369e-67, -1.1600e-07,  3.9490e-67],\n",
       "        dtype=torch.float64))"
      ]
     },
     "execution_count": 213,
     "metadata": {},
     "output_type": "execute_result"
    }
   ],
   "source": [
    "y[0, 0].backward(retain_graph=True)\n",
    "x.grad, w.grad"
   ]
  },
  {
   "cell_type": "code",
   "execution_count": null,
   "id": "5fcf2d80",
   "metadata": {},
   "outputs": [],
   "source": []
  },
  {
   "cell_type": "code",
   "execution_count": null,
   "id": "1b722355",
   "metadata": {},
   "outputs": [],
   "source": []
  },
  {
   "cell_type": "code",
   "execution_count": null,
   "id": "a754e3e7",
   "metadata": {},
   "outputs": [],
   "source": []
  },
  {
   "cell_type": "code",
   "execution_count": null,
   "id": "59ea680f",
   "metadata": {},
   "outputs": [],
   "source": []
  },
  {
   "cell_type": "code",
   "execution_count": null,
   "id": "3137c7e3",
   "metadata": {},
   "outputs": [],
   "source": []
  }
 ],
 "metadata": {
  "kernelspec": {
   "display_name": "Py3 study",
   "language": "python",
   "name": "py3_study"
  },
  "language_info": {
   "codemirror_mode": {
    "name": "ipython",
    "version": 3
   },
   "file_extension": ".py",
   "mimetype": "text/x-python",
   "name": "python",
   "nbconvert_exporter": "python",
   "pygments_lexer": "ipython3",
   "version": "3.7.1"
  }
 },
 "nbformat": 4,
 "nbformat_minor": 5
}
