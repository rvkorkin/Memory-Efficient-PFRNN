{
 "cells": [
  {
   "cell_type": "code",
   "execution_count": 1073,
   "id": "ac33bae9",
   "metadata": {
    "cellId": "yscfyiiain3q23z702vze"
   },
   "outputs": [],
   "source": [
    "#!g1.1\n",
    "import numpy as np\n",
    "import pandas as pd\n",
    "import torch\n",
    "from torchvision import datasets, transforms\n",
    "from torch.utils.data import TensorDataset, DataLoader\n",
    "import torch.nn as nn\n",
    "import torch.nn.functional as func\n",
    "import torch.optim as optimizer\n",
    "from matplotlib import pyplot as plt\n",
    "from tqdm import tqdm\n",
    "import torch.nn as nn\n",
    "import math\n",
    "import torch.nn.functional as F\n",
    "from IPython.display import clear_output"
   ]
  },
  {
   "cell_type": "code",
   "execution_count": 1074,
   "id": "12e128f9",
   "metadata": {
    "cellId": "6gqwddivc0q9wq9216x2ib"
   },
   "outputs": [],
   "source": [
    "#!g1.1\n",
    "def KLD(x_true, p_true, x_pred, sig):\n",
    "    batch_size, pNumber, _ = x_true.size()\n",
    "    return 0.5 * np.log(2 * np.pi) - torch.logsumexp(p_true.view(batch_size, pNumber, 1) - net.square_dist(x_true, x_pred).squeeze(-1) / (2 * sig**2), dim=1).mean()"
   ]
  },
  {
   "cell_type": "code",
   "execution_count": 1075,
   "id": "78a04dbc",
   "metadata": {
    "cellId": "qa8x4qgk5nakc2q47msuke"
   },
   "outputs": [],
   "source": [
    "#!g1.1\n",
    "x_uni = torch.distributions.uniform.Uniform(low=0, high=1)\n",
    "device = 'cuda:0' if torch.cuda.is_available() else 'cpu'\n",
    "\n",
    "hidden_dim = 32\n",
    "batch_size = 2048\n",
    "num_heads = 4\n",
    "x_dim = 2\n",
    "pNumber = 50\n",
    "\n",
    "read_data = np.loadtxt('particles_data.csv', delimiter=',')\n",
    "xp = read_data.reshape(read_data.shape[0] // pNumber, pNumber, x_dim + 1)\n",
    "\n",
    "x1 = torch.from_numpy(xp[:, :, :-1]).double().to(device)\n",
    "p1 = torch.from_numpy(xp[:, :, -1]).double().to(device)"
   ]
  },
  {
   "cell_type": "code",
   "execution_count": 1076,
   "id": "b5d75bc4",
   "metadata": {
    "cellId": "09856dub1ff7li1e4icu3f"
   },
   "outputs": [],
   "source": [
    "#!g1.1\n",
    "\n",
    "train_dataset = TensorDataset(x1[:int(0.7*len(xp))], p1[:int(0.7*len(xp))])\n",
    "val_dataset = TensorDataset(x1[int(0.7*len(xp)):int(0.9*len(xp))], p1[int(0.7*len(xp)):int(0.9*len(xp))])\n",
    "test_dataset = TensorDataset(x1[int(0.9*len(xp)):], p1[int(0.9*len(xp)):])\n",
    "\n",
    "train_loader = DataLoader(train_dataset, batch_size=batch_size, shuffle=True)\n",
    "val_loader = DataLoader(val_dataset, batch_size=batch_size, shuffle=False)\n",
    "test_loader = DataLoader(test_dataset, batch_size=batch_size, shuffle=False)"
   ]
  },
  {
   "cell_type": "code",
   "execution_count": 1077,
   "id": "3b13f760",
   "metadata": {
    "cellId": "tkx39yokrn99ifmuzvhawp"
   },
   "outputs": [],
   "source": [
    "#!g1.1\n",
    "def SDP_weight(k, v, q, weight):\n",
    "    d_k = q.size()[-1]\n",
    "    attn_logits = torch.matmul(q, k.transpose(-2, -1)) / math.sqrt(d_k)\n",
    "    attention = F.softmax(attn_logits, dim=-1)\n",
    "    values = torch.matmul(weight*attention, v)\n",
    "    return values, attention\n",
    "\n",
    "class MHA_self_weight(nn.Module):\n",
    "    def __init__(self, input_dim, embed_dim, num_heads):\n",
    "        super().__init__()\n",
    "        assert embed_dim % num_heads == 0, \"Embedding dimension must be 0 modulo number of heads.\"\n",
    "\n",
    "        self.embed_dim = embed_dim\n",
    "        self.num_heads = num_heads\n",
    "        self.head_dim = embed_dim // num_heads\n",
    "\n",
    "        self.kvq_proj = nn.Linear(input_dim, 3*embed_dim)\n",
    "        self.o_proj = nn.Linear(embed_dim, embed_dim)\n",
    "\n",
    "        self._reset_parameters()\n",
    "\n",
    "    def _reset_parameters(self):\n",
    "        nn.init.xavier_uniform_(self.kvq_proj.weight)\n",
    "        self.kvq_proj.bias.data.fill_(0)\n",
    "        nn.init.xavier_uniform_(self.o_proj.weight)\n",
    "        self.o_proj.bias.data.fill_(0)\n",
    "\n",
    "    def forward(self, x, weight, return_attention=False):\n",
    "        batch_size, seq_length, embed_dim = x.size()\n",
    "        kvq = self.kvq_proj(x)\n",
    "        weight = weight.unsqueeze(1)\n",
    "        weight = weight.repeat(1, self.num_heads, 1, 1)\n",
    "        # Separate Q, K, V from linear output\n",
    "        kvq = kvq.reshape(batch_size, seq_length, self.num_heads, 3*self.head_dim)\n",
    "        kvq = kvq.permute(0, 2, 1, 3) # [Batch, Head, SeqLen, Dims]\n",
    "        k, v, q = kvq.chunk(3, dim=-1)\n",
    "\n",
    "        # Determine value outputs\n",
    "        values, attention = SDP_weight(q, k, v, weight)\n",
    "        values = values.permute(0, 2, 1, 3) # [Batch, SeqLen, Head, Dims]\n",
    "        values = values.reshape(batch_size, seq_length, embed_dim)\n",
    "        out = self.o_proj(values)\n",
    "        return out\n",
    "\n",
    "class MHA_weight(nn.Module):\n",
    "    def __init__(self, input_dim, embed_dim, num_heads):\n",
    "        super().__init__()\n",
    "        assert embed_dim % num_heads == 0, \"Embedding dimension must be 0 modulo number of heads.\"\n",
    "\n",
    "        self.embed_dim = embed_dim\n",
    "        self.num_heads = num_heads\n",
    "        self.head_dim = embed_dim // num_heads\n",
    "\n",
    "        self.o_proj = nn.Linear(embed_dim, embed_dim)\n",
    "        self.linear_k = nn.Linear(embed_dim, embed_dim)\n",
    "        self.linear_v = nn.Linear(embed_dim, embed_dim)\n",
    "        self.linear_q = nn.Linear(embed_dim, embed_dim)\n",
    "\n",
    "    def forward(self, x1, x2, x3, weight, return_attention=False):\n",
    "        k, v, q = self.linear_k(x1), self.linear_v(x2), self.linear_q(x3)\n",
    "        batch_size, seq_length, embed_dim = x1.size()\n",
    "        weight = weight.unsqueeze(2)\n",
    "        weight = weight.repeat(1, 1, self.num_heads, 1)\n",
    "        weight = weight.permute(0, 2, 1, 3)\n",
    "        \n",
    "        k = self._reshape_to_batches(k)\n",
    "        v = self._reshape_to_batches(v)\n",
    "        q = self._reshape_to_batches(q)\n",
    "        \n",
    "        # Determine value outputs\n",
    "        values, attention = SDP_weight(k, v, q, weight)\n",
    "        values = values.permute(0, 2, 1, 3) # [Batch, SeqLen, Head, Dims]\n",
    "        values = values.reshape(batch_size, seq_length, embed_dim)\n",
    "        out = self.o_proj(values)\n",
    "        return out, attention\n",
    "\n",
    "    def _reshape_to_batches(self, x):\n",
    "        batch_size, seq_len, in_feature = x.size()\n",
    "        sub_dim = in_feature // self.num_heads\n",
    "        return x.reshape(batch_size, seq_len, self.num_heads, sub_dim).permute(0, 2, 1, 3)\n",
    "\n",
    "class Encoder(nn.Module):\n",
    "    def __init__(self, x_dim, hidden_dim, num_heads, pNumber):\n",
    "        super(Encoder, self).__init__()\n",
    "        self.num_particles = pNumber\n",
    "        self.hidden_dim = hidden_dim\n",
    "        self.num_heads = num_heads\n",
    "        self.x_dim = x_dim\n",
    "        self.input_layer = nn.Linear(self.x_dim, self.hidden_dim)\n",
    "        self.self_att1 = MHA_self_weight(self.hidden_dim, self.hidden_dim, self.num_heads).double().to(device)\n",
    "        self.x_max = None\n",
    "        self.x_min = None\n",
    "        self.output_layer = nn.Sequential(\n",
    "            nn.Linear(self.hidden_dim, 3*self.hidden_dim),\n",
    "            nn.LeakyReLU(),\n",
    "            nn.Linear(3*self.hidden_dim, self.hidden_dim),\n",
    "            #nn.LeakyReLU()\n",
    "            )\n",
    "\n",
    "    def scaling(self, x0, eps=1e-12):\n",
    "        tmp = x0.view(-1, self.x_dim)\n",
    "        mins, _ = x0.min(dim=1, keepdim=True)\n",
    "        maxs, _ = x0.max(dim=1, keepdim=True)\n",
    "        self.x_min = mins\n",
    "        self.x_max = maxs\n",
    "        return (x0 - self.x_min) / (self.x_max - self.x_min + eps), self.x_min, self.x_max\n",
    "\n",
    "    def forward(self, x0, p0):\n",
    "        # scaling\n",
    "        x, x_min, x_max = self.scaling(x0)\n",
    "        # pointwise dense input layer\n",
    "        x = self.input_layer(x)\n",
    "        weight = p0.exp().unsqueeze(2).repeat(1, 1, self.num_particles)\n",
    "        # weighted multihead attention\n",
    "        x = self.self_att1(x, weight) + x\n",
    "        # pointwise 2-layer feed-forward\n",
    "        x = self.output_layer(x) + x\n",
    "        return x, x_min, x_max\n",
    "\n",
    "\n",
    "class Decoder(nn.Module):\n",
    "    def __init__(self, x_dim, hidden_dim, num_heads, pNumber):\n",
    "        super(Decoder, self).__init__()\n",
    "        self.num_particles = pNumber\n",
    "        self.hidden_dim = hidden_dim\n",
    "        self.num_heads = num_heads\n",
    "        self.x_dim = x_dim\n",
    "        self.input_layer = nn.Linear(self.x_dim, self.hidden_dim)\n",
    "        self.self_att1 = nn.MultiheadAttention(self.hidden_dim, self.num_heads, batch_first=True).double().to(device)\n",
    "        self.att_weighted = MHA_weight(self.hidden_dim, self.hidden_dim, self.num_heads).double().to(device)\n",
    "        self.x_max = None\n",
    "        self.x_min = None\n",
    "        self.two_layers = nn.Sequential(\n",
    "            nn.Linear(self.hidden_dim, 3*self.hidden_dim),\n",
    "            nn.LeakyReLU(),\n",
    "            nn.Linear(3*self.hidden_dim, self.hidden_dim),\n",
    "            nn.LeakyReLU()\n",
    "            )\n",
    "        self.out_layer = nn.Sequential(\n",
    "            nn.Linear(self.hidden_dim, self.x_dim),\n",
    "            nn.LeakyReLU()\n",
    "        )\n",
    "\n",
    "    def init_seed(self, batch_size):\n",
    "        return x_uni.sample((batch_size, self.num_particles, self.hidden_dim)).double()\n",
    "\n",
    "    def rescaling(self, y, x_min, x_max):\n",
    "        return y * (x_max - x_min) + x_min\n",
    "\n",
    "    def forward(self, x_enc, p0, x_min, x_max):\n",
    "        batch_size = p0.size(0)\n",
    "        x_dec = self.init_seed(batch_size).double().to(device)\n",
    "        x_dec = self.self_att1(x_dec, x_dec, x_dec)[0] + x_dec\n",
    "        weight = p0.exp().unsqueeze(2).repeat(1, 1, self.num_particles)\n",
    "        y, v = self.att_weighted(x_enc, x_enc, x_dec, weight)\n",
    "        y = y + x_dec\n",
    "        y = self.two_layers(y) + y\n",
    "        y = self.out_layer(y)\n",
    "        y = self.rescaling(y, x_min, x_max)\n",
    "        return y, torch.log(v.mean(dim=1).mean(dim=2))\n",
    "\n",
    "class Converter(nn.Module):\n",
    "    def __init__(self, x_dim, hidden_dim, num_heads, pNumber, enc=Encoder(x_dim, hidden_dim, num_heads, pNumber), dec=Decoder(x_dim, hidden_dim, num_heads,pNumber)):\n",
    "        super(Converter, self).__init__()\n",
    "        self.num_particles = pNumber\n",
    "        self.num_heads = num_heads\n",
    "        self.x_dim = x_dim\n",
    "        self.hidden_dim = hidden_dim\n",
    "        self.enc = enc.double().to(device)\n",
    "        self.dec = dec.double().to(device)\n",
    "    \n",
    "    def forward(self, x0, p0):\n",
    "        y, x_min, x_max = self.enc(x0, p0)\n",
    "        z = self.dec(y, p0, x_min, x_max)\n",
    "        return z\n",
    "\n",
    "    def square_dist(self, x, y):\n",
    "        D = torch.cdist(x, y, p=2.0, compute_mode='use_mm_for_euclid_dist_if_necessary')**2\n",
    "        return D"
   ]
  },
  {
   "cell_type": "code",
   "execution_count": null,
   "id": "fed6bd7f",
   "metadata": {
    "cellId": "2kuro7z2rhsuuago37q0ld"
   },
   "outputs": [
    {
     "data": {
      "image/png": "[encoded data removed]",
      "text/plain": [
       "<Figure size 432x288 with 1 Axes>"
      ]
     },
     "metadata": {
      "needs_background": "light"
     },
     "output_type": "display_data"
    },
    {
     "name": "stderr",
     "output_type": "stream",
     "text": [
      "0it [00:00, ?it/s]"
     ]
    }
   ],
   "source": [
    "#!g1.1\n",
    "epochs = 50000\n",
    "\n",
    "net = Converter(x_dim, hidden_dim, num_heads, pNumber).double().to(device)\n",
    "opt = torch.optim.RMSprop(net.parameters(), lr=1e-4)\n",
    "\n",
    "sig = 0.05\n",
    "train_loss = []\n",
    "val_loss = []\n",
    "best_loss = np.Inf\n",
    "grad_clip = 3\n",
    "for epoch in range(epochs):\n",
    "    loss1 = 0\n",
    "    net.train()\n",
    "    for i, xp1 in tqdm(enumerate(train_loader)):\n",
    "        x1, p1 = xp1[0].to(device), xp1[1].to(device)\n",
    "        opt.zero_grad()\n",
    "        pred_x, v = net(x1, p1)\n",
    "        batch_size = x1.size(0)\n",
    "        loss = KLD(x1, p1, pred_x, sig)\n",
    "        loss.backward()\n",
    "        torch.nn.utils.clip_grad_norm_(net.parameters(), grad_clip)\n",
    "        opt.step()\n",
    "        loss1 += loss.item()\n",
    "\n",
    "    train_loss.append(loss1/(i+1))\n",
    "    loss1 = 0\n",
    "    net.eval()\n",
    "    for i, xp1 in enumerate(val_loader):\n",
    "        with torch.no_grad():\n",
    "            x1, p1 = xp1[0].to(device), xp1[1].to(device)\n",
    "            batch_size = x1.size(0)\n",
    "            pred_x, v = net(x1, p1)\n",
    "            loss = KLD(x1, p1, pred_x, sig)\n",
    "            loss1 += loss.item()\n",
    "\n",
    "    val_loss.append(loss1/(i+1))\n",
    "    print(epoch, train_loss[-1], val_loss[-1])\n",
    "    if val_loss[-1] < best_loss:\n",
    "        best_loss = val_loss[-1]\n",
    "        state = {\n",
    "            'epoch': epoch + 1,\n",
    "            'state_dict': net.state_dict(),\n",
    "            'optimizer': opt.state_dict(),\n",
    "        }\n",
    "        torch.save(state, 'att_model.ptm')\n",
    "    clear_output(True)\n",
    "    plt.figure()\n",
    "    plt.title(str(np.round(best_loss, 2)))\n",
    "    plt.plot((train_loss), label='train_loss')\n",
    "    plt.plot((val_loss), label='val_loss')\n",
    "    plt.legend()\n",
    "    plt.show()"
   ]
  },
  {
   "cell_type": "code",
   "execution_count": null,
   "id": "73ece207",
   "metadata": {
    "cellId": "00h4djdsyi17uyf5e4s18n"
   },
   "outputs": [],
   "source": [
    "#!g1.1\n",
    "def load_checkpoint(filepath='att_model.ptm'):\n",
    "    checkpoint = torch.load(filepath)\n",
    "    print('epoch: ', checkpoint['epoch'])\n",
    "    net.load_state_dict(checkpoint['state_dict'])\n",
    "    for p in net.parameters():\n",
    "        p.requires_grad = False\n",
    "    net.eval()\n",
    "    return net\n",
    "\n",
    "net_read = Converter(x_dim, hidden_dim, num_heads, pNumber).double().to(device)\n",
    "net_read = load_checkpoint()\n",
    "\n",
    "net_read.eval()\n",
    "loss1 = 0\n",
    "for i, xp1 in enumerate(test_loader):\n",
    "    with torch.no_grad():\n",
    "        x1, p1 = xp1[0].to(device), xp1[1].to(device)\n",
    "        batch_size = x1.size(0)\n",
    "        pred_x, v = net_read(x1, p1)\n",
    "        loss = KLD(x1, p1, pred_x, sig)\n",
    "        loss1 += loss.item()\n",
    "print('test loss', loss1 / (i+1))"
   ]
  },
  {
   "cell_type": "code",
   "execution_count": 1024,
   "id": "e2ec9d93",
   "metadata": {
    "cellId": "ftmh4l1kmotv6wcai4vyb"
   },
   "outputs": [
    {
     "name": "stdout",
     "output_type": "stream",
     "text": [
      "torch.Size([20]) torch.Size([20])\n"
     ]
    },
    {
     "data": {
      "image/png": "[encoded data removed]",
      "text/plain": [
       "<Figure size 432x288 with 1 Axes>"
      ]
     },
     "metadata": {
      "needs_background": "light"
     },
     "output_type": "display_data"
    },
    {
     "data": {
      "image/png": "[encoded data removed]",
      "text/plain": [
       "<Figure size 432x288 with 1 Axes>"
      ]
     },
     "metadata": {
      "needs_background": "light"
     },
     "output_type": "display_data"
    }
   ],
   "source": [
    "#!g1.1\n",
    "indx = 0\n",
    "y_pred = pred_x.detach().cpu()[indx].flatten()\n",
    "y_inp = x1.detach().cpu()[indx].flatten()\n",
    "pp1 = p1.exp().detach().cpu()[indx].flatten()\n",
    "z = (1/20*np.exp(-((y_inp[:, np.newaxis]-np.linspace(0, 1, 1000))**2) / (2*sig**2))/(sig * (2*np.pi)**0.5)).sum(axis=0)\n",
    "print(y_pred.shape, y_inp.shape)\n",
    "\n",
    "plt.plot(np.linspace(0, 1, 1000), z)\n",
    "plt.figure()\n",
    "for i in range(20):\n",
    "    plt.axvline(x=y_corr[i], color='orange')\n",
    "    plt.xlim(0, 1)"
   ]
  },
  {
   "cell_type": "code",
   "execution_count": 1023,
   "id": "57b1d12b",
   "metadata": {
    "cellId": "4lq0pg2p8wxjlk93eulk7"
   },
   "outputs": [
    {
     "data": {
      "text/plain": [
       "(tensor(3.1586, dtype=torch.float64), tensor(4.3133, dtype=torch.float64))"
      ]
     },
     "execution_count": 1023,
     "metadata": {},
     "output_type": "execute_result"
    }
   ],
   "source": [
    "#!g1.1\n",
    "y_corr = (y_pred - 0.711) / (0.732 - 0.711)\n",
    "d1 = KLD(y_inp.view(1, 20, 1), pp1.log().view(1, 20), y_pred.view(1, 20, 1), sig)\n",
    "d2 = KLD(y_inp.view(1, 20, 1), pp1.log().view(1, 20), y_corr.view(1, 20, 1), sig)"
   ]
  },
  {
   "cell_type": "code",
   "execution_count": 1028,
   "id": "7574c914",
   "metadata": {
    "cellId": "9pqegnr37b4l99k961chw"
   },
   "outputs": [
    {
     "data": {
      "text/plain": [
       "(tensor(3.1586, dtype=torch.float64), tensor(4.3133, dtype=torch.float64))"
      ]
     },
     "execution_count": 1028,
     "metadata": {},
     "output_type": "execute_result"
    }
   ],
   "source": [
    "#!g1.1\n",
    "y1 = y_inp.view(1, 20, 1)\n",
    "p1 = pp1.log().view(1, 20)\n",
    "y2 = y_pred.view(1, 20, 1)\n",
    "y3 = y_corr.view(1, 20, 1)\n",
    "d11 = (torch.exp(p1.view(1, 20, 1) - net.square_dist(y1, y2) / (2 * sig**2))).sum(dim=1)\n",
    "d22 = (torch.exp(p1.view(1, 20, 1) - net.square_dist(y1, y3) / (2 * sig**2))).sum(dim=1)\n",
    "0.5 * np.log(2 * np.pi) - d11.log().mean(), 0.5 * np.log(2 * np.pi) - d22.log().mean()"
   ]
  },
  {
   "cell_type": "code",
   "execution_count": 1053,
   "id": "ecff9cab",
   "metadata": {
    "cellId": "ap1dx9tvmzcvl5djecfy9j"
   },
   "outputs": [
    {
     "data": {
      "text/plain": [
       "[<matplotlib.lines.Line2D at 0x7f589ecc86a0>]"
      ]
     },
     "execution_count": 1053,
     "metadata": {},
     "output_type": "execute_result"
    },
    {
     "data": {
      "image/png": "[encoded data removed]",
      "text/plain": [
       "<Figure size 432x288 with 1 Axes>"
      ]
     },
     "metadata": {
      "needs_background": "light"
     },
     "output_type": "display_data"
    }
   ],
   "source": [
    "#!g1.1\n",
    "s = torch.linspace(0.4, 1, 1000)\n",
    "plt.plot(s, -torch.log(1+(-0.5/s**2).exp())+torch.log(2*(-0.125/s**2).exp()))"
   ]
  },
  {
   "cell_type": "code",
   "execution_count": 1032,
   "id": "37ea3455",
   "metadata": {
    "cellId": "u22n3gx1aebdfzqpchr8lg"
   },
   "outputs": [
    {
     "data": {
      "text/plain": [
       "(tensor(0.1067, dtype=torch.float64), tensor(0.0472, dtype=torch.float64))"
      ]
     },
     "execution_count": 1032,
     "metadata": {},
     "output_type": "execute_result"
    }
   ],
   "source": [
    "#!g1.1\n",
    "d11.mean(), d22.mean()"
   ]
  },
  {
   "cell_type": "code",
   "execution_count": null,
   "id": "1eed00c0",
   "metadata": {
    "cellId": "cz60cd2a8aetkrjystgt9"
   },
   "outputs": [],
   "source": [
    "#!g1.1\n"
   ]
  }
 ],
 "metadata": {
  "kernelspec": {
   "display_name": "Yandex DataSphere Kernel",
   "language": "python",
   "name": "python3"
  },
  "language_info": {
   "codemirror_mode": {
    "name": "ipython",
    "version": 3
   },
   "file_extension": ".py",
   "mimetype": "text/x-python",
   "name": "python",
   "nbconvert_exporter": "python",
   "pygments_lexer": "ipython3",
   "version": "3.7.7"
  },
  "notebookId": "aef8252c-70a8-4513-bd14-bc5bc8e987fe",
  "notebookPath": "converter.ipynb"
 },
 "nbformat": 4,
 "nbformat_minor": 5
}
